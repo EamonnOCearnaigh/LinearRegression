{
 "cells": [
  {
   "cell_type": "code",
   "execution_count": null,
   "id": "1a388fbb",
   "metadata": {},
   "outputs": [],
   "source": [
    "import numpy as np\n",
    "import matplotlib.pyplot as plt\n",
    "from sklearn.linear_model import LinearRegression\n",
    "\n",
    "\n",
    "def plot_linear_regression():\n",
    "    a = 0.5\n",
    "    b = 1.0\n",
    "\n",
    "    # x from 0 to 10\n",
    "    x = 30 * np.random.random(20)\n",
    "\n",
    "    # y = a*x + b with noise\n",
    "    y = a * x + b + np.random.normal(size=x.shape)\n",
    "\n",
    "    # create a linear regression classifier\n",
    "    clf = LinearRegression()\n",
    "    clf.fit(x[:, None], y)\n",
    "\n",
    "    # predict y from the data\n",
    "    x_new = np.linspace(0, 30, 100)\n",
    "    y_new = clf.predict(x_new[:, None])\n",
    "\n",
    "    # plot the results\n",
    "    ax = plt.axes()\n",
    "    ax.scatter(x, y)\n",
    "    ax.plot(x_new, y_new)\n",
    "\n",
    "    ax.set_xlabel('x')\n",
    "    ax.set_ylabel('y')\n",
    "\n",
    "    ax.axis('tight')\n",
    "\n",
    "\n",
    "if __name__ == '__main__':\n",
    "    plot_linear_regression()\n",
    "    plt.show()\n"
   ]
  }
 ],
 "metadata": {
  "kernelspec": {
   "display_name": "Python 3",
   "language": "python",
   "name": "python3"
  },
  "language_info": {
   "codemirror_mode": {
    "name": "ipython",
    "version": 3
   },
   "file_extension": ".py",
   "mimetype": "text/x-python",
   "name": "python",
   "nbconvert_exporter": "python",
   "pygments_lexer": "ipython3",
   "version": "3.8.8"
  }
 },
 "nbformat": 4,
 "nbformat_minor": 5
}
